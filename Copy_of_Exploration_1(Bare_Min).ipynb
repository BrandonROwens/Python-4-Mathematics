{
  "nbformat": 4,
  "nbformat_minor": 0,
  "metadata": {
    "colab": {
      "name": "Copy of Exploration 1(Bare Min).ipynb",
      "provenance": [],
      "collapsed_sections": [],
      "toc_visible": true,
      "include_colab_link": true
    },
    "kernelspec": {
      "name": "python3",
      "display_name": "Python 3"
    },
    "language_info": {
      "name": "python"
    }
  },
  "cells": [
    {
      "cell_type": "markdown",
      "metadata": {
        "id": "view-in-github",
        "colab_type": "text"
      },
      "source": [
        "<a href=\"https://colab.research.google.com/github/BrandonROwens/Python-4-Mathematics/blob/main/Copy_of_Exploration_1(Bare_Min).ipynb\" target=\"_parent\"><img src=\"https://colab.research.google.com/assets/colab-badge.svg\" alt=\"Open In Colab\"/></a>"
      ]
    },
    {
      "cell_type": "markdown",
      "source": [
        "## Explortation 1 (Project 2: Epidemiology models)\n",
        "We simulate the spread of disease using the SIR model and explore the changes one might observe upon varying the constants."
      ],
      "metadata": {
        "id": "eTOiJa-ZPjQ8"
      }
    },
    {
      "cell_type": "code",
      "execution_count": null,
      "metadata": {
        "id": "QAsfsA6dPgir"
      },
      "outputs": [],
      "source": [
        "a = 2"
      ]
    },
    {
      "cell_type": "markdown",
      "source": [
        "Can you see this?"
      ],
      "metadata": {
        "id": "gXZpZ9BYRtHu"
      }
    },
    {
      "cell_type": "code",
      "source": [
        "#yes"
      ],
      "metadata": {
        "id": "7jDqyjt1RuWv"
      },
      "execution_count": null,
      "outputs": []
    },
    {
      "cell_type": "code",
      "source": [
        "time = 365\n",
        "beta = 3\n",
        "gamma = 0.7\n",
        "N = 1000000\n",
        "S = 999000\n",
        "I = 1000\n",
        "R = 0\n",
        "\n",
        "for i in range(0,time):\n",
        "  R = R + gamma*I\n",
        "  S, I = S - beta*((I*S)/N), I + beta*((I*S)/N) - gamma*I\n",
        "print(\"Susceptible: {} \\n Recovered: {} \\n Infected: {}\".format(S,R,I))"
      ],
      "metadata": {
        "colab": {
          "base_uri": "https://localhost:8080/"
        },
        "id": "G5UKi3WkgE52",
        "outputId": "c2edd0fa-8351-4e2d-f612-f40d6725f0da"
      },
      "execution_count": null,
      "outputs": [
        {
          "output_type": "stream",
          "name": "stdout",
          "text": [
            "Susceptible: -4897.0596655902755 \n",
            " Recovered: 1004897.0596655901 \n",
            " Infected: 1.9256561146341987e-190\n"
          ]
        }
      ]
    },
    {
      "cell_type": "code",
      "source": [
        "time = 365\n",
        "beta = 3\n",
        "gamma = 0.7\n",
        "N = 1000000\n",
        "S = 999000\n",
        "I = 1000\n",
        "R = 0\n",
        "\n",
        "while R <= N:\n",
        "  R = R + gamma*I\n",
        "  S, I = S - beta*((I*S)/N), I + beta*((I*S)/N) - gamma*I\n",
        "print(\"Susceptible: {} \\n Recovered: {} \\n Infected: {}\".format(S,R,I))"
      ],
      "metadata": {
        "colab": {
          "base_uri": "https://localhost:8080/"
        },
        "id": "SS0eHlCbhjFm",
        "outputId": "4b2741fd-a94c-449d-f691-11cf29dfeee4"
      },
      "execution_count": null,
      "outputs": [
        {
          "output_type": "stream",
          "name": "stdout",
          "text": [
            "Susceptible: -4989.834660805341 \n",
            " Recovered: 1000540.715776058 \n",
            " Infected: 4449.118884747177\n"
          ]
        }
      ]
    },
    {
      "cell_type": "code",
      "source": [
        "# Brandon's attempt at setting up SIR model.\n",
        "\n",
        "def SIR_model(N,S,I,R,t):\n",
        "  '''\n",
        "  This function models the spread of disease through a population of size N over a period of t days.\n",
        "  '''\n",
        "  S_0, I_0, R_0 = S, I, R # initial number of individuals out of N who are susceptable to, infected with, and have recovered from the disease, respectively.\n",
        "  beta = 3 # measures the expected number of individuals infected by each infected person each day.\n",
        "  gamma = 0.7 # measures the recovery rate (what percentage of infected individuals recover each day).\n",
        "  d=0\n",
        "  while d<=t:\n",
        "    R = R + gamma*I\n",
        "    I = I + beta*((I*S)/N) - gamma*I\n",
        "    S = S - beta*((I*S)/N)\n",
        "    d +=1\n",
        "  print('Susceptable',int(S),'Infected',int(I),'and Recovered',int(R))\n",
        "  #print('Beginning with a total population of {}, among whom there are initally {} people susceptable, {} people infected, and {} people recovered from the disease, the SIR model suggests that after {} days there will be {} people still susceptable, {} people infected, and {} people recovered from the disease.'.format(N,S_0,I_0,R_0,t,int(S),int(I),int(R)))  "
      ],
      "metadata": {
        "id": "_NaRIgYW7Usq"
      },
      "execution_count": null,
      "outputs": []
    },
    {
      "cell_type": "code",
      "source": [
        "\n",
        "SIR_model(1000000, 999000,1000,0,365)"
      ],
      "metadata": {
        "colab": {
          "base_uri": "https://localhost:8080/"
        },
        "id": "2D1iB_D5BTtJ",
        "outputId": "05b9c2ef-04fc-46bd-9073-4bda210a1721"
      },
      "execution_count": null,
      "outputs": [
        {
          "output_type": "stream",
          "name": "stdout",
          "text": [
            "Susceptable 42203 Infected 0 and Recovered 540781\n"
          ]
        }
      ]
    },
    {
      "cell_type": "code",
      "source": [
        ""
      ],
      "metadata": {
        "id": "roMJutzPBd6B"
      },
      "execution_count": null,
      "outputs": []
    }
  ]
}