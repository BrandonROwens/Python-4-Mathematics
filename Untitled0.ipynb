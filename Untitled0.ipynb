{
  "nbformat": 4,
  "nbformat_minor": 0,
  "metadata": {
    "colab": {
      "name": "Untitled0.ipynb",
      "provenance": [],
      "collapsed_sections": [],
      "include_colab_link": true
    },
    "kernelspec": {
      "name": "python3",
      "display_name": "Python 3"
    },
    "language_info": {
      "name": "python"
    }
  },
  "cells": [
    {
      "cell_type": "markdown",
      "metadata": {
        "id": "view-in-github",
        "colab_type": "text"
      },
      "source": [
        "<a href=\"https://colab.research.google.com/github/BrandonROwens/Python-4-Mathematics/blob/main/Untitled0.ipynb\" target=\"_parent\"><img src=\"https://colab.research.google.com/assets/colab-badge.svg\" alt=\"Open In Colab\"/></a>"
      ]
    },
    {
      "cell_type": "markdown",
      "source": [
        "## Explortation 1 (Project 2: Epidemiology models)\n",
        "We simulate the spread of disease using the SIR model and explore the changes one might observe upon varying the constants."
      ],
      "metadata": {
        "id": "eTOiJa-ZPjQ8"
      }
    },
    {
      "cell_type": "code",
      "execution_count": null,
      "metadata": {
        "id": "QAsfsA6dPgir"
      },
      "outputs": [],
      "source": [
        "a = 2"
      ]
    },
    {
      "cell_type": "markdown",
      "source": [
        "Can you see this?"
      ],
      "metadata": {
        "id": "gXZpZ9BYRtHu"
      }
    },
    {
      "cell_type": "code",
      "source": [
        "#yes"
      ],
      "metadata": {
        "id": "7jDqyjt1RuWv"
      },
      "execution_count": null,
      "outputs": []
    },
    {
      "cell_type": "code",
      "source": [
        "time = 365\n",
        "beta = 3\n",
        "gamma = 0.7\n",
        "N = 1000000\n",
        "S = 999000\n",
        "I = 1000\n",
        "R = 0\n",
        "\n",
        "for i in range(0,time):\n",
        "  R = R + gamma*I\n",
        "  S, I = S - beta*((I*S)/N), I + beta*((I*S)/N) - gamma*I\n",
        "print(\"Susceptible: {} \\n Recovered: {} \\n Infected: {}\".format(S,R,I))"
      ],
      "metadata": {
        "colab": {
          "base_uri": "https://localhost:8080/"
        },
        "id": "G5UKi3WkgE52",
        "outputId": "c2edd0fa-8351-4e2d-f612-f40d6725f0da"
      },
      "execution_count": null,
      "outputs": [
        {
          "output_type": "stream",
          "name": "stdout",
          "text": [
            "Susceptible: -4897.0596655902755 \n",
            " Recovered: 1004897.0596655901 \n",
            " Infected: 1.9256561146341987e-190\n"
          ]
        }
      ]
    },
    {
      "cell_type": "code",
      "source": [
        "time = 365\n",
        "beta = 3\n",
        "gamma = 0.7\n",
        "N = 1000000\n",
        "S = 999000\n",
        "I = 1000\n",
        "R = 0\n",
        "\n",
        "while R <= N:\n",
        "  R = R + gamma*I\n",
        "  S, I = S - beta*((I*S)/N), I + beta*((I*S)/N) - gamma*I\n",
        "print(\"Susceptible: {} \\n Recovered: {} \\n Infected: {}\".format(S,R,I))"
      ],
      "metadata": {
        "colab": {
          "base_uri": "https://localhost:8080/"
        },
        "id": "SS0eHlCbhjFm",
        "outputId": "4b2741fd-a94c-449d-f691-11cf29dfeee4"
      },
      "execution_count": null,
      "outputs": [
        {
          "output_type": "stream",
          "name": "stdout",
          "text": [
            "Susceptible: -4989.834660805341 \n",
            " Recovered: 1000540.715776058 \n",
            " Infected: 4449.118884747177\n"
          ]
        }
      ]
    }
  ]
}