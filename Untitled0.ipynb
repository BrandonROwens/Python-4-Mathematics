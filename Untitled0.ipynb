{
  "nbformat": 4,
  "nbformat_minor": 0,
  "metadata": {
    "colab": {
      "name": "Untitled0.ipynb",
      "provenance": [],
      "collapsed_sections": [],
      "include_colab_link": true
    },
    "kernelspec": {
      "name": "python3",
      "display_name": "Python 3"
    },
    "language_info": {
      "name": "python"
    }
  },
  "cells": [
    {
      "cell_type": "markdown",
      "metadata": {
        "id": "view-in-github",
        "colab_type": "text"
      },
      "source": [
        "<a href=\"https://colab.research.google.com/github/BrandonROwens/Python-4-Mathematics/blob/main/Untitled0.ipynb\" target=\"_parent\"><img src=\"https://colab.research.google.com/assets/colab-badge.svg\" alt=\"Open In Colab\"/></a>"
      ]
    },
    {
      "cell_type": "markdown",
      "source": [
        "## Explortation 1 (Project 2: Epidemiology models)\n",
        "#Abstract\n",
        "We use the SIR model to simulate the spread of disease through a closed population over a given time period, and consider the relationship between the variation of certain constants within the model and the spread of and recovery from the disease within the community. Later, we introduce an (two?) additional group(s?) into the model and observe the ramifications of this action on the susceptable subset of the total population. "
      ],
      "metadata": {
        "id": "eTOiJa-ZPjQ8"
      }
    },
    {
      "cell_type": "markdown",
      "source": [
        "# Introduction\n",
        "\n",
        "The SIR model (short for Susceptable, Infected, and Recovered) is an epidemiological model that computes the number of people within a community which are susceptable to, infected with, and recovered from a hypothetical disease after a given number of days. \n",
        "\n",
        "Let $N$ denote the total population and let $S_t, I_t,$ and $R_t$ denote the respective values for the susceptable population, infected population, and recovered population within $N$ at a given time $t$. Then the SIR model can be used to compute trend of the disease through the population over a given time interval by way of the following formulae: \n",
        "\\begin{align*}\n",
        "S_{t+1} & = S_t - \\beta \\frac{I_t S_t}{N}, \\\\\n",
        "I_{t+1} & = I_t + \\beta \\frac{I_t S_t}{N}  - \\gamma I_t, \\\\\n",
        "R_{t+1} & = R_t + \\gamma I_t,\n",
        "\\end{align*} \n",
        "\n",
        "where $\\beta$ denotes the expected number of individuals infected with the disease by each infected person each day and $\\gamma$ denotes the recovery rate (what percentage of infected individuals recover each day)."
      ],
      "metadata": {
        "id": "Dqe36fGco6Ry"
      }
    },
    {
      "cell_type": "code",
      "source": [
        "# Axel's initial attempt. \n",
        "def disease_model(time, beta, gamma, N, S, I, R):\n",
        "  '''\n",
        "  This function models the spread of a disease in a population over a time\n",
        "  frame. The time frame (time) is specified in days, the disease is specified \n",
        "  by its beta and gamma parameters; the population is specified by its \n",
        "  population size (N), its initial susceptible population size (S), its initial \n",
        "  infected population size (I), and its initial recovered population size (R). \n",
        "  This function prints the susceptible, infected, and recovered population\n",
        "  on the last day of the time frame in integer format if not too large, and as\n",
        "  an nan if Python 3.0 cannot handle the number. This function calculates these\n",
        "  final numbers by computing the standard SIR disease model through a for \n",
        "  loop in the range of the specified time frame. This function also prints the \n",
        "  Basic Reproduction Number (BRN) of the specified disease, which is \n",
        "  calculated using the standard formula BRN := beta/gamma. This is given in \n",
        "  float format if not too large, and nan if Python 3.0 cannot handle the \n",
        "  number. This function also prints out the time frame in days.\n",
        "  '''\n",
        "  for i in range(0,time):\n",
        "    # sequential assignment since S, I, R are evaluated at time t not t+1\n",
        "    S, I, R = S - beta*((I*S)/N), I + beta*((I*S)/N) - gamma*I, R + gamma*I \n",
        "  BRN = beta / gamma\n",
        "  #lists to automate printing process\n",
        "  numbers = [time, S, I, R]\n",
        "  strings = [\"Days:\", \"Susceptible:\", \"Infected:\", \"Recovered:\"]\n",
        "  #to catch the nan values produced if paramters are too large\n",
        "  for i in range(0,4):\n",
        "    try:\n",
        "      print(strings[i], int(numbers[i]))\n",
        "    except:\n",
        "      print(strings[i], numbers[i])\n",
        "  try:\n",
        "    print(\"Basic Reproduction Number: {0:0.2f}\".format(BRN))\n",
        "  except:\n",
        "    print(\"Basic Reproduction Number:\", BRN)"
      ],
      "metadata": {
        "id": "pArjscit8Wqx"
      },
      "execution_count": null,
      "outputs": []
    },
    {
      "cell_type": "code",
      "source": [
        "#The gamma, beta, and the BRN used here are similar to COVID-19\n",
        "disease_model(365, 0.057, 0.025, 1000000, 999000, 1000, 0)"
      ],
      "metadata": {
        "colab": {
          "base_uri": "https://localhost:8080/"
        },
        "id": "hCi7cZOYTWdE",
        "outputId": "032d7007-bfef-46a5-959a-f4550ae7bf46"
      },
      "execution_count": null,
      "outputs": [
        {
          "output_type": "stream",
          "name": "stdout",
          "text": [
            "Days: 365\n",
            "Susceptible: 161717\n",
            "Infected: 42889\n",
            "Recovered: 795392\n",
            "Basic Reproduction Number: 2.28\n"
          ]
        }
      ]
    },
    {
      "cell_type": "code",
      "source": [
        "# Brandon's attempt at setting up SIR model.\n",
        "\n",
        "def SIR_model(N,S,I,R,t):\n",
        "  '''\n",
        "  This function models the spread of disease through a population of size N over a period of t days.\n",
        "  '''\n",
        "  #S_0, I_0, R_0 = S, I, R # initial number of individuals out of N who are susceptable to, infected with, and have recovered from the disease, respectively.\n",
        "  beta = 3 # measures the expected number of individuals infected by each infected person each day.\n",
        "  gamma = 0.7 # measures the recovery rate (what percentage of infected individuals recover each day).\n",
        "  d=0\n",
        "  while d<=t:\n",
        "    ISrN = (I*S)/N # This ensures we dont use the wrong (t+1) values of S and I at a given value t.\n",
        "    R = R + gamma*I\n",
        "    I = I + beta*(ISrN) - gamma*I\n",
        "    S = S - beta*(ISrN)\n",
        "    d +=1\n",
        "  print('Susceptable',int(S),'Infected',int(I),'and Recovered',int(R))\n",
        "  #print('Beginning with a total population of {}, among whom there are initally {} people susceptable, {} people infected, and {} people recovered from the disease, the SIR model suggests that after {} days there will be {} people still susceptable, {} people infected, and {} people recovered from the disease.'.format(N,S_0,I_0,R_0,t,int(S),int(I),int(R)))  "
      ],
      "metadata": {
        "id": "_NaRIgYW7Usq"
      },
      "execution_count": null,
      "outputs": []
    },
    {
      "cell_type": "code",
      "source": [
        "SIR_model(1000000, 999000,1000,0,365)"
      ],
      "metadata": {
        "colab": {
          "base_uri": "https://localhost:8080/"
        },
        "id": "2D1iB_D5BTtJ",
        "outputId": "23b21eab-3e41-468d-ea59-3a4261a13198"
      },
      "execution_count": null,
      "outputs": [
        {
          "output_type": "stream",
          "name": "stdout",
          "text": [
            "Susceptable -4897 Infected 0 and Recovered 1004897\n"
          ]
        }
      ]
    },
    {
      "cell_type": "code",
      "source": [
        "def SIR_model_deathtoll_included(N,S,I,R,t):\n",
        "  '''\n",
        "  This function models the spread of disease through a population of size N over a period of t days, and has been updated to include the \n",
        "  disease's deathtoll during the given time interval.\n",
        "  '''\n",
        "  #S_0, I_0, R_0 = S, I, R # initial number of individuals out of N who are susceptable to, infected with, and have recovered from the disease, respectively.\n",
        "  beta = 3 # measures the expected number of individuals infected by each infected person each day.\n",
        "  gamma = 0.7 # measures the recovery rate (what percentage of infected individuals recover each day).\n",
        "  phi = 0.5 #measures the death rate (the probability of an infected person dying from the disease each day).\n",
        "  D,i=0,0\n",
        "  while i<=t:\n",
        "    ISrN = (I*S)/N # This ensures we dont use the wrong (t+1) values of S and I at a given value t.\n",
        "    R = R + gamma*I\n",
        "    D = D + phi*I\n",
        "    I = I + beta*(ISrN) - gamma*I\n",
        "    S = S - beta*(ISrN)\n",
        "   \n",
        "    i +=1\n",
        "  print('Susceptable',int(S),'Infected',int(I),'Deceased', int(D) , 'and Recovered',int(R))\n",
        "  #print('Beginning with a total population of {}, among whom there are initally {} people susceptable, {} people infected, and {} people recovered from the disease, the SIR model suggests that after {} days there will be {} people still susceptable, {} people infected, and {} people recovered from the disease.'.format(N,S_0,I_0,R_0,t,int(S),int(I),int(R)))  "
      ],
      "metadata": {
        "id": "WHES_5o0NBDA"
      },
      "execution_count": null,
      "outputs": []
    },
    {
      "cell_type": "code",
      "source": [
        "SIR_model_deathtoll_included(1000000, 999000,1000,0,365)"
      ],
      "metadata": {
        "colab": {
          "base_uri": "https://localhost:8080/"
        },
        "id": "YAEZklxzNozK",
        "outputId": "f73905bd-f4f0-4b8e-f9f7-589a1dd3350f"
      },
      "execution_count": null,
      "outputs": [
        {
          "output_type": "stream",
          "name": "stdout",
          "text": [
            "Susceptable -4897 Infected 0 Deceased 717783 and Recovered 1004897\n"
          ]
        }
      ]
    },
    {
      "cell_type": "markdown",
      "source": [
        ""
      ],
      "metadata": {
        "id": "1YxZ8Guynjf3"
      }
    },
    {
      "cell_type": "code",
      "source": [
        "import numpy as np"
      ],
      "metadata": {
        "id": "nFo4Lvf6Rlv6"
      },
      "execution_count": 1,
      "outputs": []
    },
    {
      "cell_type": "code",
      "source": [
        "my_list = [1,2,3]"
      ],
      "metadata": {
        "id": "HyOQDnGhRoPY"
      },
      "execution_count": 2,
      "outputs": []
    },
    {
      "cell_type": "code",
      "source": [
        "np_list = np.array(my_list)"
      ],
      "metadata": {
        "id": "iOXFONdHRsCQ"
      },
      "execution_count": 7,
      "outputs": []
    },
    {
      "cell_type": "code",
      "source": [
        "my_list + my_list"
      ],
      "metadata": {
        "colab": {
          "base_uri": "https://localhost:8080/"
        },
        "id": "l3Qm5-qfR2PU",
        "outputId": "97cd4da9-da6e-4282-f1c7-aa9f3558aad2"
      },
      "execution_count": 5,
      "outputs": [
        {
          "output_type": "execute_result",
          "data": {
            "text/plain": [
              "[1, 2, 3, 1, 2, 3]"
            ]
          },
          "metadata": {},
          "execution_count": 5
        }
      ]
    },
    {
      "cell_type": "code",
      "source": [
        "np_list + np_list"
      ],
      "metadata": {
        "colab": {
          "base_uri": "https://localhost:8080/"
        },
        "id": "0xaSf8DGR7la",
        "outputId": "5c388b6a-e02f-4779-b207-40e1c44f71e5"
      },
      "execution_count": 8,
      "outputs": [
        {
          "output_type": "execute_result",
          "data": {
            "text/plain": [
              "array([2, 4, 6])"
            ]
          },
          "metadata": {},
          "execution_count": 8
        }
      ]
    },
    {
      "cell_type": "code",
      "source": [
        "x_values = np.linspace(0,10,20)"
      ],
      "metadata": {
        "id": "4ZQsIvQ-SDmg"
      },
      "execution_count": 9,
      "outputs": []
    },
    {
      "cell_type": "code",
      "source": [
        "y_values = x_values * x_values"
      ],
      "metadata": {
        "id": "jQpKk4jtSO5j"
      },
      "execution_count": 10,
      "outputs": []
    },
    {
      "cell_type": "code",
      "source": [
        "import matplotlib"
      ],
      "metadata": {
        "id": "D0aMqib2STN2"
      },
      "execution_count": 11,
      "outputs": []
    },
    {
      "cell_type": "code",
      "source": [
        "import matplotlib.pyplot as plt"
      ],
      "metadata": {
        "id": "h2IFUd7uSWyb"
      },
      "execution_count": 12,
      "outputs": []
    },
    {
      "cell_type": "code",
      "source": [
        "\n",
        "%matplotlib inline \n",
        "plt.plot(x_values, y_values)\n",
        "plt.title('Parabola')\n",
        "plt.xlabel('x')\n",
        "plt.ylabel('x square')\n",
        "plt.grid(True)\n",
        "plt.show()"
      ],
      "metadata": {
        "colab": {
          "base_uri": "https://localhost:8080/",
          "height": 295
        },
        "id": "UVyx_ToXScQx",
        "outputId": "fe9fac3c-c7c2-41c8-cbcc-973f69508f15"
      },
      "execution_count": 15,
      "outputs": [
        {
          "output_type": "display_data",
          "data": {
            "image/png": "[encoded data removed]",
            "text/plain": [
              "<Figure size 432x288 with 1 Axes>"
            ]
          },
          "metadata": {
            "needs_background": "light"
          }
        }
      ]
    },
    {
      "cell_type": "code",
      "source": [
        ""
      ],
      "metadata": {
        "id": "BC7mpLzzS1Bs"
      },
      "execution_count": null,
      "outputs": []
    }
  ]
}